{
  "cells": [
    {
      "cell_type": "markdown",
      "source": [
        "# Training\n",
        "\n",
        "**Paper:** Automatic identification of Hainan Gibbon calls in passive acoustic recordings\n",
        "\n",
        "**Authors:** Emmanuel Dufourq, Ian Durbach, James Hansford, Sam Turvey, Amanda Hoepfner\n",
        "\n",
        "**Code Date:** April 2020\n",
        "\n",
        "**Repository:** https://github.com/emmanueldufourq/GibbonClassifier\n",
        "\n",
        "**Notebook description:** Train a CNN on the augmented spectrogram images.\n",
        "\n",
        "_Please refer to the user manual for further details of the operations being executed in this notebook._\n",
        "\n",
        "<hr>\n",
        "\n",
        "**Note 1: Set colab=True if executing on Google Colab, or set colab=False if running locally.**\n",
        "\n",
        "**Note 2: When running on Google Colab, please select Kernel > ...........**\n",
        "\n"
      ],
      "metadata": {}
    },
    {
      "cell_type": "code",
      "source": [
        "colab = False"
      ],
      "outputs": [],
      "execution_count": 1,
      "metadata": {}
    },
    {
      "cell_type": "code",
      "source": [
        "if colab:\n",
        "    !pip install SoundFile\n",
        "    from google.colab import drive\n",
        "    from pydrive.auth import GoogleAuth\n",
        "    from pydrive.drive import GoogleDrive\n",
        "    from google.colab import auth\n",
        "    from oauth2client.client import GoogleCredentials\n",
        "    import tarfile\n",
        "\n",
        "    # Google Authentication\n",
        "    auth.authenticate_user()\n",
        "    gauth = GoogleAuth()\n",
        "    gauth.credentials = GoogleCredentials.get_application_default()\n",
        "    drive = GoogleDrive(gauth)\n",
        "\n",
        "    # Download data files\n",
        "    downloaded = drive.CreateFile({'id':\"1u7orJHwGOMIcyqwiiEl2e7KEZpnT_0h7\"})\n",
        "    downloaded.GetContentFile('GibbonClassifierData.tar.gz')\n",
        "\n",
        "    # Extract files to temporary location in Google Drive\n",
        "    with tarfile.open('GibbonClassifierData.tar.gz', 'r:gz') as tar:\n",
        "        tar.extractall()"
      ],
      "outputs": [],
      "execution_count": 2,
      "metadata": {}
    },
    {
      "cell_type": "code",
      "source": [
        "import tensorflow as tf\n",
        "print(\"Num GPUs Available: \", len(tf.config.list_physical_devices('GPU')))\n",
        "print(tf.config.list_physical_devices('GPU'))\n",
        "sess = tf.compat.v1.Session(config=tf.compat.v1.ConfigProto(log_device_placement=True))"
      ],
      "outputs": [
        {
          "output_type": "stream",
          "name": "stdout",
          "text": "Num GPUs Available:  1\n[PhysicalDevice(name='/physical_device:GPU:0', device_type='GPU')]\n"
        }
      ],
      "execution_count": 3,
      "metadata": {}
    },
    {
      "cell_type": "code",
      "source": [
        "from Train_Helper import *"
      ],
      "outputs": [],
      "execution_count": 4,
      "metadata": {
        "scrolled": true
      }
    },
    {
      "cell_type": "code",
      "source": [
        "\"\"\"\n",
        "# Run these lines if first time running \n",
        "# azureml-core of version 1.0.72 or higher is required\n",
        "from azureml.core import Workspace, Dataset\n",
        "\n",
        "subscription_id = 'f68334c5-af2d-4e23-a3dc-f09362e5a54f'\n",
        "resource_group = 'chorus_test'\n",
        "workspace_name = 'chorus_test_1'\n",
        "\n",
        "workspace = Workspace(subscription_id, resource_group, workspace_name)\n",
        "\n",
        "dataset = Dataset.get_by_name(workspace, name='Gibbon')\n",
        "dataset.download(target_path='.', overwrite=False)\n",
        "import tarfile\n",
        "\n",
        "# Extract files to temporary location in Google Drive\n",
        "with tarfile.open('GibbonClassifierData.tar.gz', 'r:gz') as tar:\n",
        "    tar.extractall()\n",
        "\"\"\""
      ],
      "outputs": [
        {
          "output_type": "execute_result",
          "execution_count": 5,
          "data": {
            "text/plain": "\"\\n# Run these lines if first time running \\n# azureml-core of version 1.0.72 or higher is required\\nfrom azureml.core import Workspace, Dataset\\n\\nsubscription_id = 'f68334c5-af2d-4e23-a3dc-f09362e5a54f'\\nresource_group = 'chorus_test'\\nworkspace_name = 'chorus_test_1'\\n\\nworkspace = Workspace(subscription_id, resource_group, workspace_name)\\n\\ndataset = Dataset.get_by_name(workspace, name='Gibbon')\\ndataset.download(target_path='.', overwrite=False)\\nimport tarfile\\n\\n# Extract files to temporary location in Google Drive\\nwith tarfile.open('GibbonClassifierData.tar.gz', 'r:gz') as tar:\\n    tar.extractall()\\n\""
          },
          "metadata": {}
        }
      ],
      "execution_count": 5,
      "metadata": {}
    },
    {
      "cell_type": "code",
      "source": [
        "\"\"\"\n",
        "Alternative for download data \n",
        "\n",
        "!pip install gdown\n",
        "\n",
        "import gdown\n",
        "from pathlib import Path\n",
        "\n",
        "# train\n",
        "url = 'https://drive.google.com/file/d/1ELtriuMC0bXwSyOSjtlKrZzu_3B0BxH8/view?usp=sharing'\n",
        "output = 'HGSM3D_0+1_20160429_051600.wav'\n",
        "gdown.download(url, output, quiet=False, fuzzy=True)\n",
        "Path(output).rename('Raw_Data/Train/'+output)\n",
        "\n",
        "# test\n",
        "url = 'https://drive.google.com/file/d/14MtKQZsrecoQ_yIM_zFExgbJShOVOKsi/view?usp=sharing'\n",
        "output = 'HGSM3B_0+1_20160308_055700.wav'\n",
        "gdown.download(url, output, quiet=False, fuzzy=True)\n",
        "Path(output).rename('Raw_Data/Test/'+output)\n",
        "\"\"\""
      ],
      "outputs": [
        {
          "output_type": "execute_result",
          "execution_count": 6,
          "data": {
            "text/plain": "\"\\nAlternative for download data \\n\\n!pip install gdown\\n\\nimport gdown\\nfrom pathlib import Path\\n\\n# train\\nurl = 'https://drive.google.com/file/d/1ELtriuMC0bXwSyOSjtlKrZzu_3B0BxH8/view?usp=sharing'\\noutput = 'HGSM3D_0+1_20160429_051600.wav'\\ngdown.download(url, output, quiet=False, fuzzy=True)\\nPath(output).rename('Raw_Data/Train/'+output)\\n\\n# test\\nurl = 'https://drive.google.com/file/d/14MtKQZsrecoQ_yIM_zFExgbJShOVOKsi/view?usp=sharing'\\noutput = 'HGSM3B_0+1_20160308_055700.wav'\\ngdown.download(url, output, quiet=False, fuzzy=True)\\nPath(output).rename('Raw_Data/Test/'+output)\\n\""
          },
          "metadata": {}
        }
      ],
      "execution_count": 6,
      "metadata": {}
    },
    {
      "cell_type": "markdown",
      "source": [
        "## Parameters"
      ],
      "metadata": {}
    },
    {
      "cell_type": "code",
      "source": [
        "audio_directory = 'Raw_Data/Train/'\n",
        "timestamp_directory = 'Call_Labels/'\n",
        "save_location = 'Pickled_Data/'\n",
        "augment_directory = 'Augmented_Data/'\n",
        "augment_image_directory = 'Augmented_Image_Data/'\n",
        "training_file = 'Training_Files.txt'\n",
        "\n",
        "sample_rate = 4800\n",
        "number_seconds_to_extract = 10\n",
        "seed = 42\n",
        "number_iterations = 1\n",
        "augmentation_probability = 1.0\n",
        "augmentation_amount_noise = 2\n",
        "augmentation_amount_gibbon = 10"
      ],
      "outputs": [],
      "execution_count": 7,
      "metadata": {}
    },
    {
      "cell_type": "markdown",
      "source": [
        "## Extract segments, preprocessing and augment all training files"
      ],
      "metadata": {}
    },
    {
      "cell_type": "code",
      "source": [
        "execute_preprocessing_all_files(training_file, audio_directory, \n",
        "                            sample_rate, timestamp_directory,\n",
        "                            number_seconds_to_extract, save_location,\n",
        "                            augmentation_amount_noise, augmentation_probability, \n",
        "                            augmentation_amount_gibbon, seed, augment_directory, augment_image_directory,\n",
        "                            number_iterations)"
      ],
      "outputs": [
        {
          "output_type": "stream",
          "name": "stdout",
          "text": "Processing file: HGSM3D_0+1_20160429_051600.wav\nReading audio file (this can take some time)...\n\nReading done.\n\nExtracting segments done. Pickle files saved.\n\ngibbon_extracted: (369, 48000)\nnon_gibbon_extracted: (1179, 48000)\n\ngibbon_extracted_augmented: (3690, 48000)\nnon_gibbon_extracted_augmented: (3690, 48000)\n\ngibbon_extracted_augmented_image: (3690, 128, 188, 1)\nnon_gibbon_extracted_augmented_image: (3690, 128, 188, 1)\n\nAugmenting done. Pickle files saved to...\n"
        }
      ],
      "execution_count": 8,
      "metadata": {}
    },
    {
      "cell_type": "markdown",
      "source": [
        "## Begin training"
      ],
      "metadata": {}
    },
    {
      "cell_type": "code",
      "source": [
        "train_model(number_iterations, augment_image_directory, training_file)"
      ],
      "outputs": [
        {
          "output_type": "stream",
          "name": "stdout",
          "text": "Loading data...\n\n----------------------------------\nReading file: HGSM3D_0+1_20160429_051600.wav\nReading file gibbon augmented file:  HGSM3D_0+1_20160429_051600\nReading non-gibbon augmented file: HGSM3D_0+1_20160429_051600\n\nGibbon features: (3690, 128, 188, 1)\nNon-gibbon features (3690, 128, 188, 1)\n\nData loaded.\nProcessing...\nProcessing done.\n\nShape of X (7380, 128, 188, 1)\nShape of Y (7380, 2)\nIteration 0 starting...\nexperiment_id: 0\nX_train: (5904, 128, 188, 1)\nY_train: (5904, 2)\n\nX_val: (1476, 128, 188, 1)\nY_val: (1476, 2)\nModel: \"sequential\"\n_________________________________________________________________\nLayer (type)                 Output Shape              Param #   \n=================================================================\nconv2d (Conv2D)              (None, 113, 173, 8)       2056      \n_________________________________________________________________\ndropout (Dropout)            (None, 113, 173, 8)       0         \n_________________________________________________________________\nmax_pooling2d (MaxPooling2D) (None, 28, 43, 8)         0         \n_________________________________________________________________\nconv2d_1 (Conv2D)            (None, 13, 28, 8)         16392     \n_________________________________________________________________\ndropout_1 (Dropout)          (None, 13, 28, 8)         0         \n_________________________________________________________________\nmax_pooling2d_1 (MaxPooling2 (None, 3, 7, 8)           0         \n_________________________________________________________________\nflatten (Flatten)            (None, 168)               0         \n_________________________________________________________________\ndense (Dense)                (None, 32)                5408      \n_________________________________________________________________\ndropout_2 (Dropout)          (None, 32)                0         \n_________________________________________________________________\ndense_1 (Dense)              (None, 2)                 66        \n=================================================================\nTotal params: 23,922\nTrainable params: 23,922\nNon-trainable params: 0\n_________________________________________________________________\nWARNING:tensorflow:sample_weight modes were coerced from\n  ...\n    to  \n  ['...']\nWARNING:tensorflow:sample_weight modes were coerced from\n  ...\n    to  \n  ['...']\nTrain on 5904 samples, validate on 1476 samples\nEpoch 1/50\n\nEpoch 00001: val_accuracy improved from -inf to 0.87873, saving model to Experiments/weights_43994.hdf5\n5904/5904 - 9s - loss: 0.4565 - accuracy: 0.7712 - val_loss: 0.3346 - val_accuracy: 0.8787\nEpoch 2/50\n\nEpoch 00002: val_accuracy improved from 0.87873 to 0.91667, saving model to Experiments/weights_43994.hdf5\n5904/5904 - 7s - loss: 0.1687 - accuracy: 0.9404 - val_loss: 0.2209 - val_accuracy: 0.9167\nEpoch 3/50\n\nEpoch 00003: val_accuracy improved from 0.91667 to 0.96070, saving model to Experiments/weights_43994.hdf5\n5904/5904 - 7s - loss: 0.1005 - accuracy: 0.9638 - val_loss: 0.1374 - val_accuracy: 0.9607\nEpoch 4/50\n\nEpoch 00004: val_accuracy improved from 0.96070 to 0.96274, saving model to Experiments/weights_43994.hdf5\n5904/5904 - 7s - loss: 0.0781 - accuracy: 0.9710 - val_loss: 0.1174 - val_accuracy: 0.9627\nEpoch 5/50\n\nEpoch 00005: val_accuracy did not improve from 0.96274\n5904/5904 - 7s - loss: 0.0525 - accuracy: 0.9842 - val_loss: 0.1390 - val_accuracy: 0.9444\nEpoch 6/50\n\nEpoch 00006: val_accuracy improved from 0.96274 to 0.99593, saving model to Experiments/weights_43994.hdf5\n5904/5904 - 7s - loss: 0.0436 - accuracy: 0.9848 - val_loss: 0.0436 - val_accuracy: 0.9959\nEpoch 7/50\n\nEpoch 00007: val_accuracy did not improve from 0.99593\n5904/5904 - 7s - loss: 0.0425 - accuracy: 0.9844 - val_loss: 0.0421 - val_accuracy: 0.9925\nEpoch 8/50\n\nEpoch 00008: val_accuracy did not improve from 0.99593\n5904/5904 - 7s - loss: 0.0335 - accuracy: 0.9893 - val_loss: 0.0493 - val_accuracy: 0.9871\nEpoch 9/50\n\nEpoch 00009: val_accuracy improved from 0.99593 to 0.99729, saving model to Experiments/weights_43994.hdf5\n5904/5904 - 7s - loss: 0.0353 - accuracy: 0.9876 - val_loss: 0.0239 - val_accuracy: 0.9973\nEpoch 10/50\n\nEpoch 00010: val_accuracy did not improve from 0.99729\n5904/5904 - 7s - loss: 0.0462 - accuracy: 0.9863 - val_loss: 0.0425 - val_accuracy: 0.9878\nEpoch 11/50\n\nEpoch 00011: val_accuracy did not improve from 0.99729\n5904/5904 - 7s - loss: 0.0272 - accuracy: 0.9919 - val_loss: 0.0530 - val_accuracy: 0.9858\nEpoch 12/50\n\nEpoch 00012: val_accuracy did not improve from 0.99729\n5904/5904 - 7s - loss: 0.0218 - accuracy: 0.9919 - val_loss: 0.0271 - val_accuracy: 0.9932\nEpoch 13/50\n\nEpoch 00013: val_accuracy did not improve from 0.99729\n5904/5904 - 7s - loss: 0.0382 - accuracy: 0.9897 - val_loss: 0.0655 - val_accuracy: 0.9770\nEpoch 14/50\n\nEpoch 00014: val_accuracy did not improve from 0.99729\n5904/5904 - 7s - loss: 0.0224 - accuracy: 0.9937 - val_loss: 0.0154 - val_accuracy: 0.9973\nEpoch 15/50\n\nEpoch 00015: val_accuracy improved from 0.99729 to 0.99797, saving model to Experiments/weights_43994.hdf5\n5904/5904 - 8s - loss: 0.0153 - accuracy: 0.9954 - val_loss: 0.0225 - val_accuracy: 0.9980\nEpoch 16/50\n\nEpoch 00016: val_accuracy did not improve from 0.99797\n5904/5904 - 7s - loss: 0.0252 - accuracy: 0.9925 - val_loss: 0.0341 - val_accuracy: 0.9892\nEpoch 17/50\n\nEpoch 00017: val_accuracy did not improve from 0.99797\n5904/5904 - 7s - loss: 0.0113 - accuracy: 0.9959 - val_loss: 0.0149 - val_accuracy: 0.9966\nEpoch 18/50\n\nEpoch 00018: val_accuracy did not improve from 0.99797\n5904/5904 - 7s - loss: 0.0263 - accuracy: 0.9907 - val_loss: 0.0309 - val_accuracy: 0.9946\nEpoch 19/50\n\nEpoch 00019: val_accuracy did not improve from 0.99797\n5904/5904 - 7s - loss: 0.0290 - accuracy: 0.9903 - val_loss: 0.0474 - val_accuracy: 0.9871\nEpoch 20/50\n\nEpoch 00020: val_accuracy improved from 0.99797 to 0.99865, saving model to Experiments/weights_43994.hdf5\n5904/5904 - 7s - loss: 0.0143 - accuracy: 0.9966 - val_loss: 0.0094 - val_accuracy: 0.9986\nEpoch 21/50\n\nEpoch 00021: val_accuracy did not improve from 0.99865\n5904/5904 - 7s - loss: 0.0213 - accuracy: 0.9942 - val_loss: 0.0268 - val_accuracy: 0.9966\nEpoch 22/50\n\nEpoch 00022: val_accuracy did not improve from 0.99865\n5904/5904 - 7s - loss: 0.0072 - accuracy: 0.9976 - val_loss: 0.0087 - val_accuracy: 0.9986\nEpoch 23/50\n\nEpoch 00023: val_accuracy did not improve from 0.99865\n5904/5904 - 7s - loss: 0.0074 - accuracy: 0.9966 - val_loss: 0.0151 - val_accuracy: 0.9953\nEpoch 24/50\n\nEpoch 00024: val_accuracy did not improve from 0.99865\n5904/5904 - 7s - loss: 0.0442 - accuracy: 0.9885 - val_loss: 0.0495 - val_accuracy: 0.9851\nEpoch 25/50\n\nEpoch 00025: val_accuracy did not improve from 0.99865\n5904/5904 - 7s - loss: 0.0205 - accuracy: 0.9929 - val_loss: 0.0145 - val_accuracy: 0.9986\nEpoch 26/50\n\nEpoch 00026: val_accuracy did not improve from 0.99865\n5904/5904 - 7s - loss: 0.0136 - accuracy: 0.9961 - val_loss: 0.0190 - val_accuracy: 0.9959\nEpoch 27/50\n\nEpoch 00027: val_accuracy did not improve from 0.99865\n5904/5904 - 7s - loss: 0.0101 - accuracy: 0.9973 - val_loss: 0.0204 - val_accuracy: 0.9932\nEpoch 28/50\n\nEpoch 00028: val_accuracy did not improve from 0.99865\n5904/5904 - 7s - loss: 0.0082 - accuracy: 0.9966 - val_loss: 0.0103 - val_accuracy: 0.9973\nEpoch 29/50\n\nEpoch 00029: val_accuracy improved from 0.99865 to 0.99932, saving model to Experiments/weights_43994.hdf5\n5904/5904 - 7s - loss: 0.0205 - accuracy: 0.9951 - val_loss: 0.0143 - val_accuracy: 0.9993\nEpoch 30/50\n\nEpoch 00030: val_accuracy did not improve from 0.99932\n5904/5904 - 7s - loss: 0.0090 - accuracy: 0.9980 - val_loss: 0.1132 - val_accuracy: 0.9797\nEpoch 31/50\n\nEpoch 00031: val_accuracy did not improve from 0.99932\n5904/5904 - 7s - loss: 0.0361 - accuracy: 0.9937 - val_loss: 0.0236 - val_accuracy: 0.9959\nEpoch 32/50\n\nEpoch 00032: val_accuracy did not improve from 0.99932\n5904/5904 - 7s - loss: 0.0170 - accuracy: 0.9958 - val_loss: 0.0127 - val_accuracy: 0.9993\nEpoch 33/50\n\nEpoch 00033: val_accuracy did not improve from 0.99932\n5904/5904 - 7s - loss: 0.0050 - accuracy: 0.9981 - val_loss: 0.0123 - val_accuracy: 0.9980\nEpoch 34/50\n\nEpoch 00034: val_accuracy did not improve from 0.99932\n5904/5904 - 7s - loss: 0.0060 - accuracy: 0.9981 - val_loss: 0.0076 - val_accuracy: 0.9993\nEpoch 35/50\n\nEpoch 00035: val_accuracy did not improve from 0.99932\n5904/5904 - 7s - loss: 0.0108 - accuracy: 0.9970 - val_loss: 0.0133 - val_accuracy: 0.9953\nEpoch 36/50\n\nEpoch 00036: val_accuracy did not improve from 0.99932\n5904/5904 - 7s - loss: 0.0163 - accuracy: 0.9968 - val_loss: 0.0078 - val_accuracy: 0.9993\nEpoch 37/50\n\nEpoch 00037: val_accuracy did not improve from 0.99932\n5904/5904 - 7s - loss: 0.0029 - accuracy: 0.9988 - val_loss: 0.0052 - val_accuracy: 0.9993\nEpoch 38/50\n\nEpoch 00038: val_accuracy did not improve from 0.99932\n5904/5904 - 7s - loss: 0.0231 - accuracy: 0.9953 - val_loss: 0.0169 - val_accuracy: 0.9986\nEpoch 39/50\n\nEpoch 00039: val_accuracy did not improve from 0.99932\n5904/5904 - 7s - loss: 0.0188 - accuracy: 0.9944 - val_loss: 0.0090 - val_accuracy: 0.9993\nEpoch 40/50\n\nEpoch 00040: val_accuracy did not improve from 0.99932\n5904/5904 - 7s - loss: 0.0035 - accuracy: 0.9993 - val_loss: 0.0067 - val_accuracy: 0.9973\nEpoch 41/50\n\nEpoch 00041: val_accuracy did not improve from 0.99932\n5904/5904 - 7s - loss: 0.0305 - accuracy: 0.9929 - val_loss: 0.0261 - val_accuracy: 0.9946\nEpoch 42/50\n\nEpoch 00042: val_accuracy did not improve from 0.99932\n5904/5904 - 7s - loss: 0.0069 - accuracy: 0.9983 - val_loss: 0.0103 - val_accuracy: 0.9986\nEpoch 43/50\n\nEpoch 00043: val_accuracy did not improve from 0.99932\n5904/5904 - 7s - loss: 0.0049 - accuracy: 0.9985 - val_loss: 0.0065 - val_accuracy: 0.9993\nEpoch 44/50\n\nEpoch 00044: val_accuracy did not improve from 0.99932\n5904/5904 - 7s - loss: 0.0152 - accuracy: 0.9966 - val_loss: 0.0094 - val_accuracy: 0.9966\nEpoch 45/50\n\nEpoch 00045: val_accuracy did not improve from 0.99932\n5904/5904 - 7s - loss: 0.0081 - accuracy: 0.9973 - val_loss: 0.0081 - val_accuracy: 0.9959\nEpoch 46/50\n\nEpoch 00046: val_accuracy did not improve from 0.99932\n5904/5904 - 7s - loss: 0.0136 - accuracy: 0.9966 - val_loss: 0.0092 - val_accuracy: 0.9980\nEpoch 47/50\n\nEpoch 00047: val_accuracy did not improve from 0.99932\n5904/5904 - 7s - loss: 0.0185 - accuracy: 0.9959 - val_loss: 0.0172 - val_accuracy: 0.9980\nEpoch 48/50\n\nEpoch 00048: val_accuracy did not improve from 0.99932\n5904/5904 - 7s - loss: 0.0061 - accuracy: 0.9978 - val_loss: 0.0087 - val_accuracy: 0.9986\nEpoch 49/50\n\nEpoch 00049: val_accuracy did not improve from 0.99932\n5904/5904 - 7s - loss: 0.0024 - accuracy: 0.9990 - val_loss: 0.0292 - val_accuracy: 0.9905\nEpoch 50/50\n\nEpoch 00050: val_accuracy did not improve from 0.99932\n5904/5904 - 7s - loss: 0.0181 - accuracy: 0.9958 - val_loss: 0.0096 - val_accuracy: 0.9986\n0.9998306233062331\n0.9993224932249323\n\nPlotting performance on validation data.\nNormalized confusion matrix\n[[1. 0.]\n [0. 1.]]\n"
        },
        {
          "output_type": "display_data",
          "data": {
            "text/plain": "<Figure size 432x288 with 0 Axes>"
          },
          "metadata": {}
        },
        {
          "output_type": "display_data",
          "data": {
            "image/png": "[encoded data removed]",
            "text/plain": "<Figure size 432x288 with 2 Axes>"
          },
          "metadata": {
            "needs_background": "light"
          }
        },
        {
          "output_type": "stream",
          "name": "stdout",
          "text": "Iteration 0 ended...\nResults saved to:\nExperiments/train_test_performance_43994.txt\n-------------------\n"
        }
      ],
      "execution_count": 9,
      "metadata": {}
    }
  ],
  "metadata": {
    "kernel_info": {
      "name": "gibbons_env"
    },
    "kernelspec": {
      "name": "gibbons_env",
      "language": "python",
      "display_name": "Python gibbons_env"
    },
    "language_info": {
      "name": "python",
      "version": "3.6.13",
      "mimetype": "text/x-python",
      "codemirror_mode": {
        "name": "ipython",
        "version": 3
      },
      "pygments_lexer": "ipython3",
      "nbconvert_exporter": "python",
      "file_extension": ".py"
    },
    "nteract": {
      "version": "nteract-front-end@1.0.0"
    }
  },
  "nbformat": 4,
  "nbformat_minor": 4
}